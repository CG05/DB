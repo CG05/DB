{
 "cells": [
  {
   "cell_type": "markdown",
   "id": "ed59f07b",
   "metadata": {},
   "source": [
    "# Series\n",
    "  - pandas의 기본 객체 중 하나\n",
    "  - numpy의 ndarray를 기반으로 **인덱싱 기능**이 추가된 **1차원 배열**을 나타냄 (index x value 의 형태)\n",
    "  - index를 지정하지 않을 시, 기본적으로 ndarray와 같이 0-based 인덱스 생성, 지정할 경우 명시적으로 지정된 index를 사용\n",
    "  - **같은 타입**의 0개 이상의 데이터를 가질 수 있음"
   ]
  },
  {
   "cell_type": "code",
   "execution_count": 1,
   "id": "f3937302",
   "metadata": {},
   "outputs": [],
   "source": [
    "import numpy as np \n",
    "import pandas as pd"
   ]
  },
  {
   "cell_type": "markdown",
   "id": "85f52789",
   "metadata": {},
   "source": [
    "### Series \n",
    "- 실제로 데이터분석, 머신러닝 분야에서 Series 단독으로 사용하는 경우는 없다.\n",
    "- Series 의 묶음인 DataFrame 에서 파생된 결과로 Series를 사용하는 경우는 있다.\n",
    "- 실제로 Series 를 생성해서 사용하는 경우 거의 없다.\n",
    "- 그렇지만 Series 를 이해해야 DataFrame 도 이해가 되기 때문에 배워야 한다.\n",
    "\n",
    "### Pandas 의 핵심 객체 \n",
    "> Series : 1차원 데이터 + index   \n",
    "> DataFrame : 2차원 데이터 + (index, columns)   "
   ]
  },
  {
   "cell_type": "markdown",
   "id": "59938d2d",
   "metadata": {},
   "source": [
    "## Series 생성 : data로만 생성하기\n",
    " - index는 기본적으로 0부터 자동적으로 생성"
   ]
  },
  {
   "cell_type": "code",
   "execution_count": 3,
   "id": "29ee9f8b",
   "metadata": {},
   "outputs": [
    {
     "data": {
      "text/plain": [
       "0    1\n",
       "1    2\n",
       "2    3\n",
       "dtype: int64"
      ]
     },
     "execution_count": 3,
     "metadata": {},
     "output_type": "execute_result"
    }
   ],
   "source": [
    "s1 = pd.Series([1,2,3])\n",
    "s1"
   ]
  },
  {
   "cell_type": "markdown",
   "id": "08d6a897",
   "metadata": {},
   "source": [
    "#### .values .index .dtype"
   ]
  },
  {
   "cell_type": "code",
   "execution_count": 4,
   "id": "be6c1584",
   "metadata": {},
   "outputs": [
    {
     "data": {
      "text/plain": [
       "array([1, 2, 3], dtype=int64)"
      ]
     },
     "execution_count": 4,
     "metadata": {},
     "output_type": "execute_result"
    }
   ],
   "source": [
    "s1.values"
   ]
  },
  {
   "cell_type": "code",
   "execution_count": 5,
   "id": "bbd3c8bf",
   "metadata": {},
   "outputs": [
    {
     "data": {
      "text/plain": [
       "numpy.ndarray"
      ]
     },
     "execution_count": 5,
     "metadata": {},
     "output_type": "execute_result"
    }
   ],
   "source": [
    "type(s1.values)"
   ]
  },
  {
   "cell_type": "code",
   "execution_count": 6,
   "id": "d77ae99c",
   "metadata": {},
   "outputs": [
    {
     "data": {
      "text/plain": [
       "RangeIndex(start=0, stop=3, step=1)"
      ]
     },
     "execution_count": 6,
     "metadata": {},
     "output_type": "execute_result"
    }
   ],
   "source": [
    "s1.index"
   ]
  },
  {
   "cell_type": "code",
   "execution_count": 7,
   "id": "b70d49a2",
   "metadata": {},
   "outputs": [
    {
     "data": {
      "text/plain": [
       "dtype('int64')"
      ]
     },
     "execution_count": 7,
     "metadata": {},
     "output_type": "execute_result"
    }
   ],
   "source": [
    "s1.dtype"
   ]
  },
  {
   "cell_type": "code",
   "execution_count": 8,
   "id": "30c42cc6",
   "metadata": {},
   "outputs": [
    {
     "data": {
      "text/plain": [
       "0    a\n",
       "1    b\n",
       "2    c\n",
       "dtype: object"
      ]
     },
     "execution_count": 8,
     "metadata": {},
     "output_type": "execute_result"
    }
   ],
   "source": [
    "s2 = pd.Series(['a','b','c'])\n",
    "s2"
   ]
  },
  {
   "cell_type": "code",
   "execution_count": 9,
   "id": "cff42b56",
   "metadata": {},
   "outputs": [
    {
     "data": {
      "text/plain": [
       "dtype('int32')"
      ]
     },
     "execution_count": 9,
     "metadata": {},
     "output_type": "execute_result"
    }
   ],
   "source": [
    "np.arange(200).dtype"
   ]
  },
  {
   "cell_type": "code",
   "execution_count": 10,
   "id": "82af21c6",
   "metadata": {},
   "outputs": [
    {
     "data": {
      "text/plain": [
       "0        0\n",
       "1        1\n",
       "2        2\n",
       "3        3\n",
       "4        4\n",
       "      ... \n",
       "195    195\n",
       "196    196\n",
       "197    197\n",
       "198    198\n",
       "199    199\n",
       "Length: 200, dtype: int32"
      ]
     },
     "execution_count": 10,
     "metadata": {},
     "output_type": "execute_result"
    }
   ],
   "source": [
    "s3 = pd.Series(np.arange(200))\n",
    "s3"
   ]
  },
  {
   "cell_type": "code",
   "execution_count": 11,
   "id": "ad6d36c0",
   "metadata": {},
   "outputs": [
    {
     "data": {
      "text/plain": [
       "4"
      ]
     },
     "execution_count": 11,
     "metadata": {},
     "output_type": "execute_result"
    }
   ],
   "source": [
    "# Series[인덱스] : 값을 반환\n",
    "s3[4]"
   ]
  },
  {
   "cell_type": "code",
   "execution_count": 12,
   "id": "8ddeca33",
   "metadata": {},
   "outputs": [
    {
     "data": {
      "text/plain": [
       "1"
      ]
     },
     "execution_count": 12,
     "metadata": {},
     "output_type": "execute_result"
    }
   ],
   "source": [
    "s1[0]"
   ]
  },
  {
   "cell_type": "markdown",
   "id": "9e5388d8",
   "metadata": {},
   "source": [
    "## Series 생성: data, index 함께 명시하여 생성"
   ]
  },
  {
   "cell_type": "markdown",
   "id": "96f3e2ef",
   "metadata": {},
   "source": [
    "```\n",
    "pd.Series(\n",
    "    data=None,\n",
    "    index=None,\n",
    "    dtype:'int',\n",
    "    name=None,\n",
    "    copy :\n",
    "    fastpath ....\n",
    ")\n",
    "```"
   ]
  },
  {
   "cell_type": "code",
   "execution_count": 13,
   "id": "5bc02336",
   "metadata": {},
   "outputs": [
    {
     "data": {
      "text/plain": [
       "100    1\n",
       "200    2\n",
       "300    3\n",
       "dtype: int64"
      ]
     },
     "execution_count": 13,
     "metadata": {},
     "output_type": "execute_result"
    }
   ],
   "source": [
    "# pd.Series(data , index)\n",
    "s4 = pd.Series([1,2,3], [100,200,300])\n",
    "s4"
   ]
  },
  {
   "cell_type": "code",
   "execution_count": 14,
   "id": "13e3f2b4",
   "metadata": {},
   "outputs": [
    {
     "ename": "KeyError",
     "evalue": "0",
     "output_type": "error",
     "traceback": [
      "\u001b[1;31m---------------------------------------------------------------------------\u001b[0m",
      "\u001b[1;31mKeyError\u001b[0m                                  Traceback (most recent call last)",
      "File \u001b[1;32mc:\\Program Files\\Python312\\Lib\\site-packages\\pandas\\core\\indexes\\base.py:3790\u001b[0m, in \u001b[0;36mIndex.get_loc\u001b[1;34m(self, key)\u001b[0m\n\u001b[0;32m   3789\u001b[0m \u001b[38;5;28;01mtry\u001b[39;00m:\n\u001b[1;32m-> 3790\u001b[0m     \u001b[38;5;28;01mreturn\u001b[39;00m \u001b[38;5;28;43mself\u001b[39;49m\u001b[38;5;241;43m.\u001b[39;49m\u001b[43m_engine\u001b[49m\u001b[38;5;241;43m.\u001b[39;49m\u001b[43mget_loc\u001b[49m\u001b[43m(\u001b[49m\u001b[43mcasted_key\u001b[49m\u001b[43m)\u001b[49m\n\u001b[0;32m   3791\u001b[0m \u001b[38;5;28;01mexcept\u001b[39;00m \u001b[38;5;167;01mKeyError\u001b[39;00m \u001b[38;5;28;01mas\u001b[39;00m err:\n",
      "File \u001b[1;32mindex.pyx:152\u001b[0m, in \u001b[0;36mpandas._libs.index.IndexEngine.get_loc\u001b[1;34m()\u001b[0m\n",
      "File \u001b[1;32mindex.pyx:181\u001b[0m, in \u001b[0;36mpandas._libs.index.IndexEngine.get_loc\u001b[1;34m()\u001b[0m\n",
      "File \u001b[1;32mpandas\\_libs\\hashtable_class_helper.pxi:2606\u001b[0m, in \u001b[0;36mpandas._libs.hashtable.Int64HashTable.get_item\u001b[1;34m()\u001b[0m\n",
      "File \u001b[1;32mpandas\\_libs\\hashtable_class_helper.pxi:2630\u001b[0m, in \u001b[0;36mpandas._libs.hashtable.Int64HashTable.get_item\u001b[1;34m()\u001b[0m\n",
      "\u001b[1;31mKeyError\u001b[0m: 0",
      "\nThe above exception was the direct cause of the following exception:\n",
      "\u001b[1;31mKeyError\u001b[0m                                  Traceback (most recent call last)",
      "Cell \u001b[1;32mIn[14], line 1\u001b[0m\n\u001b[1;32m----> 1\u001b[0m \u001b[43ms4\u001b[49m\u001b[43m[\u001b[49m\u001b[38;5;241;43m0\u001b[39;49m\u001b[43m]\u001b[49m\n",
      "File \u001b[1;32mc:\\Program Files\\Python312\\Lib\\site-packages\\pandas\\core\\series.py:1040\u001b[0m, in \u001b[0;36mSeries.__getitem__\u001b[1;34m(self, key)\u001b[0m\n\u001b[0;32m   1037\u001b[0m     \u001b[38;5;28;01mreturn\u001b[39;00m \u001b[38;5;28mself\u001b[39m\u001b[38;5;241m.\u001b[39m_values[key]\n\u001b[0;32m   1039\u001b[0m \u001b[38;5;28;01melif\u001b[39;00m key_is_scalar:\n\u001b[1;32m-> 1040\u001b[0m     \u001b[38;5;28;01mreturn\u001b[39;00m \u001b[38;5;28;43mself\u001b[39;49m\u001b[38;5;241;43m.\u001b[39;49m\u001b[43m_get_value\u001b[49m\u001b[43m(\u001b[49m\u001b[43mkey\u001b[49m\u001b[43m)\u001b[49m\n\u001b[0;32m   1042\u001b[0m \u001b[38;5;66;03m# Convert generator to list before going through hashable part\u001b[39;00m\n\u001b[0;32m   1043\u001b[0m \u001b[38;5;66;03m# (We will iterate through the generator there to check for slices)\u001b[39;00m\n\u001b[0;32m   1044\u001b[0m \u001b[38;5;28;01mif\u001b[39;00m is_iterator(key):\n",
      "File \u001b[1;32mc:\\Program Files\\Python312\\Lib\\site-packages\\pandas\\core\\series.py:1156\u001b[0m, in \u001b[0;36mSeries._get_value\u001b[1;34m(self, label, takeable)\u001b[0m\n\u001b[0;32m   1153\u001b[0m     \u001b[38;5;28;01mreturn\u001b[39;00m \u001b[38;5;28mself\u001b[39m\u001b[38;5;241m.\u001b[39m_values[label]\n\u001b[0;32m   1155\u001b[0m \u001b[38;5;66;03m# Similar to Index.get_value, but we do not fall back to positional\u001b[39;00m\n\u001b[1;32m-> 1156\u001b[0m loc \u001b[38;5;241m=\u001b[39m \u001b[38;5;28;43mself\u001b[39;49m\u001b[38;5;241;43m.\u001b[39;49m\u001b[43mindex\u001b[49m\u001b[38;5;241;43m.\u001b[39;49m\u001b[43mget_loc\u001b[49m\u001b[43m(\u001b[49m\u001b[43mlabel\u001b[49m\u001b[43m)\u001b[49m\n\u001b[0;32m   1158\u001b[0m \u001b[38;5;28;01mif\u001b[39;00m is_integer(loc):\n\u001b[0;32m   1159\u001b[0m     \u001b[38;5;28;01mreturn\u001b[39;00m \u001b[38;5;28mself\u001b[39m\u001b[38;5;241m.\u001b[39m_values[loc]\n",
      "File \u001b[1;32mc:\\Program Files\\Python312\\Lib\\site-packages\\pandas\\core\\indexes\\base.py:3797\u001b[0m, in \u001b[0;36mIndex.get_loc\u001b[1;34m(self, key)\u001b[0m\n\u001b[0;32m   3792\u001b[0m     \u001b[38;5;28;01mif\u001b[39;00m \u001b[38;5;28misinstance\u001b[39m(casted_key, \u001b[38;5;28mslice\u001b[39m) \u001b[38;5;129;01mor\u001b[39;00m (\n\u001b[0;32m   3793\u001b[0m         \u001b[38;5;28misinstance\u001b[39m(casted_key, abc\u001b[38;5;241m.\u001b[39mIterable)\n\u001b[0;32m   3794\u001b[0m         \u001b[38;5;129;01mand\u001b[39;00m \u001b[38;5;28many\u001b[39m(\u001b[38;5;28misinstance\u001b[39m(x, \u001b[38;5;28mslice\u001b[39m) \u001b[38;5;28;01mfor\u001b[39;00m x \u001b[38;5;129;01min\u001b[39;00m casted_key)\n\u001b[0;32m   3795\u001b[0m     ):\n\u001b[0;32m   3796\u001b[0m         \u001b[38;5;28;01mraise\u001b[39;00m InvalidIndexError(key)\n\u001b[1;32m-> 3797\u001b[0m     \u001b[38;5;28;01mraise\u001b[39;00m \u001b[38;5;167;01mKeyError\u001b[39;00m(key) \u001b[38;5;28;01mfrom\u001b[39;00m \u001b[38;5;21;01merr\u001b[39;00m\n\u001b[0;32m   3798\u001b[0m \u001b[38;5;28;01mexcept\u001b[39;00m \u001b[38;5;167;01mTypeError\u001b[39;00m:\n\u001b[0;32m   3799\u001b[0m     \u001b[38;5;66;03m# If we have a listlike key, _check_indexing_error will raise\u001b[39;00m\n\u001b[0;32m   3800\u001b[0m     \u001b[38;5;66;03m#  InvalidIndexError. Otherwise we fall through and re-raise\u001b[39;00m\n\u001b[0;32m   3801\u001b[0m     \u001b[38;5;66;03m#  the TypeError.\u001b[39;00m\n\u001b[0;32m   3802\u001b[0m     \u001b[38;5;28mself\u001b[39m\u001b[38;5;241m.\u001b[39m_check_indexing_error(key)\n",
      "\u001b[1;31mKeyError\u001b[0m: 0"
     ]
    }
   ],
   "source": [
    "# Series는 반드시 인덱스명으로 값을 호출 한다.\n",
    "s4[0]"
   ]
  },
  {
   "cell_type": "code",
   "execution_count": 15,
   "id": "30b69156",
   "metadata": {},
   "outputs": [
    {
     "data": {
      "text/plain": [
       "(1, 2, 3)"
      ]
     },
     "execution_count": 15,
     "metadata": {},
     "output_type": "execute_result"
    }
   ],
   "source": [
    "s4[100], s4[200], s4[300]"
   ]
  },
  {
   "cell_type": "code",
   "execution_count": 16,
   "id": "3f0789ca",
   "metadata": {},
   "outputs": [
    {
     "data": {
      "text/plain": [
       "Index([100, 200, 300], dtype='int64')"
      ]
     },
     "execution_count": 16,
     "metadata": {},
     "output_type": "execute_result"
    }
   ],
   "source": [
    "s4.index"
   ]
  },
  {
   "cell_type": "code",
   "execution_count": 17,
   "id": "93764b7f",
   "metadata": {},
   "outputs": [
    {
     "data": {
      "text/plain": [
       "a    1\n",
       "b    2\n",
       "c    3\n",
       "dtype: int64"
      ]
     },
     "execution_count": 17,
     "metadata": {},
     "output_type": "execute_result"
    }
   ],
   "source": [
    "# index 반드시 숫자여야 할 이유는 없다.\n",
    "s5 = pd.Series([1,2,3], ['a','b','c'])\n",
    "s5"
   ]
  },
  {
   "cell_type": "code",
   "execution_count": 18,
   "id": "cd922224",
   "metadata": {},
   "outputs": [
    {
     "data": {
      "text/plain": [
       "강호동    1\n",
       "유재석    2\n",
       "신동엽    3\n",
       "dtype: int64"
      ]
     },
     "execution_count": 18,
     "metadata": {},
     "output_type": "execute_result"
    }
   ],
   "source": [
    "s5 = pd.Series([1,2,3], ['강호동', '유재석', '신동엽'])\n",
    "s5"
   ]
  },
  {
   "cell_type": "code",
   "execution_count": 21,
   "id": "ba02c663",
   "metadata": {},
   "outputs": [
    {
     "data": {
      "text/plain": [
       "(1, 2, 3)"
      ]
     },
     "execution_count": 21,
     "metadata": {},
     "output_type": "execute_result"
    }
   ],
   "source": [
    "s5['강호동'], s5['유재석'], s5['신동엽']"
   ]
  },
  {
   "cell_type": "code",
   "execution_count": 22,
   "id": "44b4a45c",
   "metadata": {},
   "outputs": [
    {
     "data": {
      "text/plain": [
       "a    1\n",
       "b    2\n",
       "b    3\n",
       "b    4\n",
       "dtype: int64"
      ]
     },
     "execution_count": 22,
     "metadata": {},
     "output_type": "execute_result"
    }
   ],
   "source": [
    "# index 는 중복값 허용된다.\n",
    "s6 = pd.Series([1,2,3,4], ['a','b','b','b'])\n",
    "s6"
   ]
  },
  {
   "cell_type": "code",
   "execution_count": 23,
   "id": "5084eeb5",
   "metadata": {},
   "outputs": [
    {
     "data": {
      "text/plain": [
       "b    2\n",
       "b    3\n",
       "b    4\n",
       "dtype: int64"
      ]
     },
     "execution_count": 23,
     "metadata": {},
     "output_type": "execute_result"
    }
   ],
   "source": [
    "s6['b']"
   ]
  },
  {
   "cell_type": "code",
   "execution_count": 24,
   "id": "bfc6be65",
   "metadata": {},
   "outputs": [],
   "source": [
    "# index 를 문자열을 사용할 수 있다.\n",
    "# 하지만 index 이름으로 값을 가져오기 때문에 긴 index 사용하지 않는다."
   ]
  },
  {
   "cell_type": "code",
   "execution_count": 26,
   "id": "f09135ec",
   "metadata": {},
   "outputs": [
    {
     "data": {
      "text/plain": [
       "떡볶이    5000원\n",
       "김밥     3000원\n",
       "라면     5000원\n",
       "dtype: object"
      ]
     },
     "execution_count": 26,
     "metadata": {},
     "output_type": "execute_result"
    }
   ],
   "source": [
    "# index 로 value를 호출한다. \n",
    "# dictionary 랑 비슷하다.\n",
    "# dictionary 사용하면 Series 를 만들 수 있다.\n",
    "# 키가 index 가 되고 값이 value 가 된다.\n",
    "dict = {'떡볶이' : '5000원', '김밥' : '3000원', '라면':'5000원'}\n",
    "s6 = pd.Series(dict)\n",
    "s6"
   ]
  },
  {
   "cell_type": "markdown",
   "id": "9802240d",
   "metadata": {},
   "source": [
    "##  dtype 명시하여 생성 "
   ]
  },
  {
   "cell_type": "code",
   "execution_count": 27,
   "id": "fc6f8854",
   "metadata": {},
   "outputs": [
    {
     "data": {
      "text/plain": [
       "100    0\n",
       "101    1\n",
       "102    2\n",
       "103    3\n",
       "104    4\n",
       "dtype: int16"
      ]
     },
     "execution_count": 27,
     "metadata": {},
     "output_type": "execute_result"
    }
   ],
   "source": [
    "s7 = pd.Series(np.arange(5), index=np.arange(100, 105), dtype=np.int16)\n",
    "s7"
   ]
  },
  {
   "cell_type": "code",
   "execution_count": 28,
   "id": "97b5a264",
   "metadata": {},
   "outputs": [
    {
     "data": {
      "text/plain": [
       "0    0\n",
       "1    1\n",
       "2    2\n",
       "3    3\n",
       "4    4\n",
       "dtype: int32"
      ]
     },
     "execution_count": 28,
     "metadata": {},
     "output_type": "execute_result"
    }
   ],
   "source": [
    "# np.arange() : dtype 명시되어 있다.\n",
    "pd.Series(np.arange(5))"
   ]
  },
  {
   "cell_type": "code",
   "execution_count": 29,
   "id": "efcf77bf",
   "metadata": {},
   "outputs": [
    {
     "data": {
      "text/plain": [
       "0    1\n",
       "1    2\n",
       "2    3\n",
       "dtype: int64"
      ]
     },
     "execution_count": 29,
     "metadata": {},
     "output_type": "execute_result"
    }
   ],
   "source": [
    "# 명시가 되지 않으면 Pandas 가 자동으로 자료형을 유추한다.\n",
    "pd.Series([1,2,3])"
   ]
  },
  {
   "cell_type": "code",
   "execution_count": 30,
   "id": "793cdec6",
   "metadata": {},
   "outputs": [
    {
     "data": {
      "text/plain": [
       "0    1.00\n",
       "1    2.00\n",
       "2    1.30\n",
       "3    3.14\n",
       "dtype: float64"
      ]
     },
     "execution_count": 30,
     "metadata": {},
     "output_type": "execute_result"
    }
   ],
   "source": [
    "pd.Series([1,2,1.3,3.14])"
   ]
  },
  {
   "cell_type": "code",
   "execution_count": 31,
   "id": "813abedc",
   "metadata": {},
   "outputs": [
    {
     "data": {
      "text/plain": [
       "0       1\n",
       "1       2\n",
       "2     1.3\n",
       "3    3.14\n",
       "4       a\n",
       "dtype: object"
      ]
     },
     "execution_count": 31,
     "metadata": {},
     "output_type": "execute_result"
    }
   ],
   "source": [
    "pd.Series([1,2,1.3,3.14, 'a'])"
   ]
  },
  {
   "cell_type": "markdown",
   "id": "5858bd4e",
   "metadata": {},
   "source": [
    "## 인덱스 활용"
   ]
  },
  {
   "cell_type": "code",
   "execution_count": 32,
   "id": "c3174059",
   "metadata": {},
   "outputs": [
    {
     "data": {
      "text/plain": [
       "100    0\n",
       "101    1\n",
       "102    2\n",
       "103    3\n",
       "104    4\n",
       "dtype: int16"
      ]
     },
     "execution_count": 32,
     "metadata": {},
     "output_type": "execute_result"
    }
   ],
   "source": [
    "s7"
   ]
  },
  {
   "cell_type": "code",
   "execution_count": 33,
   "id": "487530d7",
   "metadata": {},
   "outputs": [
    {
     "data": {
      "text/plain": [
       "Index([100, 101, 102, 103, 104], dtype='int32')"
      ]
     },
     "execution_count": 33,
     "metadata": {},
     "output_type": "execute_result"
    }
   ],
   "source": [
    "s7.index"
   ]
  },
  {
   "cell_type": "code",
   "execution_count": 34,
   "id": "671d7d13",
   "metadata": {},
   "outputs": [
    {
     "data": {
      "text/plain": [
       "array([100, 101, 102, 103, 104])"
      ]
     },
     "execution_count": 34,
     "metadata": {},
     "output_type": "execute_result"
    }
   ],
   "source": [
    "s7.index.values"
   ]
  },
  {
   "cell_type": "code",
   "execution_count": 35,
   "id": "f368c336",
   "metadata": {},
   "outputs": [
    {
     "data": {
      "text/plain": [
       "array([0, 1, 2, 3, 4], dtype=int16)"
      ]
     },
     "execution_count": 35,
     "metadata": {},
     "output_type": "execute_result"
    }
   ],
   "source": [
    "s7.values"
   ]
  },
  {
   "cell_type": "markdown",
   "id": "cbc3d486",
   "metadata": {},
   "source": [
    "#### 1.인덱스를 통한 데이터 접근"
   ]
  },
  {
   "cell_type": "code",
   "execution_count": 36,
   "id": "2f657511",
   "metadata": {},
   "outputs": [
    {
     "data": {
      "text/plain": [
       "0"
      ]
     },
     "execution_count": 36,
     "metadata": {},
     "output_type": "execute_result"
    }
   ],
   "source": [
    "s7[100]"
   ]
  },
  {
   "cell_type": "code",
   "execution_count": 37,
   "id": "067fd3b6",
   "metadata": {},
   "outputs": [
    {
     "data": {
      "text/plain": [
       "(2, 3)"
      ]
     },
     "execution_count": 37,
     "metadata": {},
     "output_type": "execute_result"
    }
   ],
   "source": [
    "s7[102], s7[103]"
   ]
  },
  {
   "cell_type": "code",
   "execution_count": 38,
   "id": "9ca2594d",
   "metadata": {},
   "outputs": [],
   "source": [
    "# 결과값은 단일데이터 값 타입"
   ]
  },
  {
   "cell_type": "code",
   "execution_count": 39,
   "id": "d9979c38",
   "metadata": {},
   "outputs": [
    {
     "data": {
      "text/plain": [
       "102    2\n",
       "dtype: int16"
      ]
     },
     "execution_count": 39,
     "metadata": {},
     "output_type": "execute_result"
    }
   ],
   "source": [
    "# index 와 값을 같이 출력 - Series 타입\n",
    "s7[[102]]"
   ]
  },
  {
   "cell_type": "code",
   "execution_count": 40,
   "id": "1947cbdf",
   "metadata": {},
   "outputs": [
    {
     "data": {
      "text/plain": [
       "102    2\n",
       "104    4\n",
       "dtype: int16"
      ]
     },
     "execution_count": 40,
     "metadata": {},
     "output_type": "execute_result"
    }
   ],
   "source": [
    "s7[[102, 104]]"
   ]
  },
  {
   "cell_type": "code",
   "execution_count": 41,
   "id": "fbeec849",
   "metadata": {},
   "outputs": [
    {
     "data": {
      "text/plain": [
       "104    4\n",
       "101    1\n",
       "102    2\n",
       "dtype: int16"
      ]
     },
     "execution_count": 41,
     "metadata": {},
     "output_type": "execute_result"
    }
   ],
   "source": [
    "# 인덱스를 명시한 순서대로 출력\n",
    "s7[[104, 101, 102]]"
   ]
  },
  {
   "cell_type": "code",
   "execution_count": 43,
   "id": "c3fb0820",
   "metadata": {},
   "outputs": [
    {
     "data": {
      "text/plain": [
       "101    1\n",
       "101    1\n",
       "101    1\n",
       "102    2\n",
       "102    2\n",
       "102    2\n",
       "104    4\n",
       "104    4\n",
       "dtype: int16"
      ]
     },
     "execution_count": 43,
     "metadata": {},
     "output_type": "execute_result"
    }
   ],
   "source": [
    "# 같은 인덱스를 여러번 호출 가능\n",
    "s7[[101,101,101,102,102,102,104,104]]"
   ]
  },
  {
   "cell_type": "markdown",
   "id": "18d42dd4",
   "metadata": {},
   "source": [
    "### 2. 인덱스를 통한 데이터 업데이트"
   ]
  },
  {
   "cell_type": "code",
   "execution_count": 44,
   "id": "03b6b7a2",
   "metadata": {},
   "outputs": [],
   "source": [
    "s7[104] = 1000"
   ]
  },
  {
   "cell_type": "code",
   "execution_count": 45,
   "id": "0f2c6471",
   "metadata": {},
   "outputs": [
    {
     "data": {
      "text/plain": [
       "100       0\n",
       "101       1\n",
       "102       2\n",
       "103       3\n",
       "104    1000\n",
       "dtype: int16"
      ]
     },
     "execution_count": 45,
     "metadata": {},
     "output_type": "execute_result"
    }
   ],
   "source": [
    "s7"
   ]
  },
  {
   "cell_type": "code",
   "execution_count": 46,
   "id": "04463867",
   "metadata": {},
   "outputs": [],
   "source": [
    "s7[101] = 102"
   ]
  },
  {
   "cell_type": "code",
   "execution_count": 47,
   "id": "ec6f9b48",
   "metadata": {},
   "outputs": [
    {
     "data": {
      "text/plain": [
       "100       0\n",
       "101     102\n",
       "102       2\n",
       "103       3\n",
       "104    1000\n",
       "dtype: int16"
      ]
     },
     "execution_count": 47,
     "metadata": {},
     "output_type": "execute_result"
    }
   ],
   "source": [
    "s7"
   ]
  },
  {
   "cell_type": "code",
   "execution_count": 48,
   "id": "0d550742",
   "metadata": {},
   "outputs": [
    {
     "data": {
      "text/plain": [
       "100        0\n",
       "101      102\n",
       "102        2\n",
       "103        3\n",
       "104     1000\n",
       "105    20000\n",
       "dtype: int16"
      ]
     },
     "execution_count": 48,
     "metadata": {},
     "output_type": "execute_result"
    }
   ],
   "source": [
    "# 없는 인덱스 번호에 값을 넣으면 새로 생긴다.\n",
    "s7[105] = 20000\n",
    "s7"
   ]
  },
  {
   "cell_type": "code",
   "execution_count": 49,
   "id": "6358a3b0",
   "metadata": {},
   "outputs": [
    {
     "name": "stderr",
     "output_type": "stream",
     "text": [
      "C:\\Users\\Public\\Documents\\ESTsoft\\CreatorTemp\\ipykernel_12556\\2740403072.py:1: FutureWarning: Setting an item of incompatible dtype is deprecated and will raise in a future error of pandas. Value '(101, 103)' has dtype incompatible with int16, please explicitly cast to a compatible dtype first.\n",
      "  s7[[102,103]] = 101, 103\n"
     ]
    },
    {
     "data": {
      "text/plain": [
       "100        0\n",
       "101      102\n",
       "102      101\n",
       "103      103\n",
       "104     1000\n",
       "105    20000\n",
       "dtype: int32"
      ]
     },
     "execution_count": 49,
     "metadata": {},
     "output_type": "execute_result"
    }
   ],
   "source": [
    "# 여러 인덱스 값을 한꺼번에 수정 가능\n",
    "s7[[102,103]] = 101, 103\n",
    "s7"
   ]
  },
  {
   "cell_type": "markdown",
   "id": "701ebe64",
   "metadata": {},
   "source": [
    "### 3. 인덱스 재사용하기"
   ]
  },
  {
   "cell_type": "code",
   "execution_count": 50,
   "id": "8a6db4ca",
   "metadata": {},
   "outputs": [
    {
     "data": {
      "text/plain": [
       "Index([100, 101, 102, 103, 104, 105], dtype='int32')"
      ]
     },
     "execution_count": 50,
     "metadata": {},
     "output_type": "execute_result"
    }
   ],
   "source": [
    "s7.index"
   ]
  },
  {
   "cell_type": "code",
   "execution_count": 51,
   "id": "fad46130",
   "metadata": {},
   "outputs": [
    {
     "data": {
      "text/plain": [
       "100    0\n",
       "101    1\n",
       "102    2\n",
       "103    3\n",
       "104    4\n",
       "105    5\n",
       "dtype: int32"
      ]
     },
     "execution_count": 51,
     "metadata": {},
     "output_type": "execute_result"
    }
   ],
   "source": [
    "s8 = pd.Series(np.arange(6), s7.index)\n",
    "s8"
   ]
  },
  {
   "cell_type": "markdown",
   "id": "eb9febe8",
   "metadata": {},
   "source": [
    "### Series name, Index name, Index 변경"
   ]
  },
  {
   "cell_type": "code",
   "execution_count": 52,
   "id": "a514dd38",
   "metadata": {},
   "outputs": [
    {
     "data": {
      "text/plain": [
       "떡볶이    5000원\n",
       "김밥     3000원\n",
       "라면     5000원\n",
       "dtype: object"
      ]
     },
     "execution_count": 52,
     "metadata": {},
     "output_type": "execute_result"
    }
   ],
   "source": [
    "s6"
   ]
  },
  {
   "cell_type": "code",
   "execution_count": 53,
   "id": "9df35cb9",
   "metadata": {},
   "outputs": [],
   "source": [
    "s6.name = '분식집'"
   ]
  },
  {
   "cell_type": "code",
   "execution_count": 54,
   "id": "c7ce65de",
   "metadata": {},
   "outputs": [
    {
     "data": {
      "text/plain": [
       "떡볶이    5000원\n",
       "김밥     3000원\n",
       "라면     5000원\n",
       "Name: 분식집, dtype: object"
      ]
     },
     "execution_count": 54,
     "metadata": {},
     "output_type": "execute_result"
    }
   ],
   "source": [
    "s6"
   ]
  },
  {
   "cell_type": "code",
   "execution_count": 55,
   "id": "f37145ca",
   "metadata": {},
   "outputs": [
    {
     "data": {
      "text/plain": [
       "메뉴\n",
       "떡볶이    5000원\n",
       "김밥     3000원\n",
       "라면     5000원\n",
       "Name: 분식집, dtype: object"
      ]
     },
     "execution_count": 55,
     "metadata": {},
     "output_type": "execute_result"
    }
   ],
   "source": [
    "s6.index.name = '메뉴'\n",
    "s6"
   ]
  },
  {
   "cell_type": "code",
   "execution_count": 56,
   "id": "2dc8d182",
   "metadata": {},
   "outputs": [
    {
     "data": {
      "text/plain": [
       "김치볶음밥    5000원\n",
       "오뎅       3000원\n",
       "만두       5000원\n",
       "Name: 분식집, dtype: object"
      ]
     },
     "execution_count": 56,
     "metadata": {},
     "output_type": "execute_result"
    }
   ],
   "source": [
    "s6.index = ['김치볶음밥', '오뎅', '만두']\n",
    "s6"
   ]
  }
 ],
 "metadata": {
  "kernelspec": {
   "display_name": "Python 3 (ipykernel)",
   "language": "python",
   "name": "python3"
  },
  "language_info": {
   "codemirror_mode": {
    "name": "ipython",
    "version": 3
   },
   "file_extension": ".py",
   "mimetype": "text/x-python",
   "name": "python",
   "nbconvert_exporter": "python",
   "pygments_lexer": "ipython3",
   "version": "3.12.3"
  }
 },
 "nbformat": 4,
 "nbformat_minor": 5
}
