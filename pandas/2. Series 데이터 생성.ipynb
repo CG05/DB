{
 "cells": [
  {
   "cell_type": "markdown",
   "id": "ed59f07b",
   "metadata": {},
   "source": [
    "# Series\n",
    "  - pandas의 기본 객체 중 하나\n",
    "  - numpy의 ndarray를 기반으로 **인덱싱 기능**이 추가된 **1차원 배열**을 나타냄 (index x value 의 형태)\n",
    "  - index를 지정하지 않을 시, 기본적으로 ndarray와 같이 0-based 인덱스 생성, 지정할 경우 명시적으로 지정된 index를 사용\n",
    "  - **같은 타입**의 0개 이상의 데이터를 가질 수 있음"
   ]
  },
  {
   "cell_type": "code",
   "execution_count": 1,
   "id": "cec16e40",
   "metadata": {},
   "outputs": [],
   "source": [
    "import numpy as np\n",
    "import pandas as pd"
   ]
  },
  {
   "cell_type": "markdown",
   "id": "86075ff3",
   "metadata": {},
   "source": [
    "### Series\n",
    "- 실제로 데이터 분석, 머신러닝 분야에서 Series 단독으로 사용하는 경우는 없다.\n",
    "- Series의 묶음인 DataFrame에서 파생된 결과로 Series를 사용하는 경우는 있다.\n",
    "- 실제로 Series를 생성해서 사용하는 경우는 거의 없다.\n",
    "- 그렇지만 Series를 이해해야 DataFrame도 이해가 되기 때문에 배워야 한다.\n",
    "\n",
    "### Pandas의 핵심 객체\n",
    "> Series : 1차원 데이터 + index   \n",
    "> DataFrame : 2차원 데이터 + (index + column)"
   ]
  },
  {
   "cell_type": "markdown",
   "id": "59938d2d",
   "metadata": {},
   "source": [
    "## Series 생성 : data로만 생성하기\n",
    " - index는 기본적으로 0부터 자동적으로 생성"
   ]
  },
  {
   "cell_type": "code",
   "execution_count": 2,
   "id": "3926d6e6",
   "metadata": {},
   "outputs": [
    {
     "data": {
      "text/plain": [
       "0    1\n",
       "1    2\n",
       "2    3\n",
       "dtype: int64"
      ]
     },
     "execution_count": 2,
     "metadata": {},
     "output_type": "execute_result"
    }
   ],
   "source": [
    "s1 = pd.Series([1,2,3])\n",
    "s1"
   ]
  },
  {
   "cell_type": "markdown",
   "id": "08d6a897",
   "metadata": {},
   "source": [
    "#### .values .index .dtype"
   ]
  },
  {
   "cell_type": "code",
   "execution_count": 3,
   "id": "3916821e",
   "metadata": {},
   "outputs": [
    {
     "data": {
      "text/plain": [
       "array([1, 2, 3])"
      ]
     },
     "execution_count": 3,
     "metadata": {},
     "output_type": "execute_result"
    }
   ],
   "source": [
    "s1.values"
   ]
  },
  {
   "cell_type": "code",
   "execution_count": 4,
   "id": "6027d202",
   "metadata": {},
   "outputs": [
    {
     "data": {
      "text/plain": [
       "numpy.ndarray"
      ]
     },
     "execution_count": 4,
     "metadata": {},
     "output_type": "execute_result"
    }
   ],
   "source": [
    "type(s1.values)"
   ]
  },
  {
   "cell_type": "code",
   "execution_count": 5,
   "id": "95820a90",
   "metadata": {},
   "outputs": [
    {
     "data": {
      "text/plain": [
       "RangeIndex(start=0, stop=3, step=1)"
      ]
     },
     "execution_count": 5,
     "metadata": {},
     "output_type": "execute_result"
    }
   ],
   "source": [
    "s1.index"
   ]
  },
  {
   "cell_type": "code",
   "execution_count": 6,
   "id": "b2920ca1",
   "metadata": {},
   "outputs": [
    {
     "data": {
      "text/plain": [
       "dtype('int64')"
      ]
     },
     "execution_count": 6,
     "metadata": {},
     "output_type": "execute_result"
    }
   ],
   "source": [
    "s1.dtype"
   ]
  },
  {
   "cell_type": "code",
   "execution_count": 7,
   "id": "a044daa2",
   "metadata": {},
   "outputs": [
    {
     "data": {
      "text/plain": [
       "0    a\n",
       "1    b\n",
       "2    c\n",
       "dtype: object"
      ]
     },
     "execution_count": 7,
     "metadata": {},
     "output_type": "execute_result"
    }
   ],
   "source": [
    "s2 = pd.Series(['a', 'b', 'c'])\n",
    "s2"
   ]
  },
  {
   "cell_type": "code",
   "execution_count": 9,
   "id": "8bacb164",
   "metadata": {},
   "outputs": [
    {
     "data": {
      "text/plain": [
       "dtype('int64')"
      ]
     },
     "execution_count": 9,
     "metadata": {},
     "output_type": "execute_result"
    }
   ],
   "source": [
    "np.arange(200).dtype"
   ]
  },
  {
   "cell_type": "code",
   "execution_count": 10,
   "id": "d1cb30aa",
   "metadata": {},
   "outputs": [
    {
     "data": {
      "text/plain": [
       "0        0\n",
       "1        1\n",
       "2        2\n",
       "3        3\n",
       "4        4\n",
       "      ... \n",
       "195    195\n",
       "196    196\n",
       "197    197\n",
       "198    198\n",
       "199    199\n",
       "Length: 200, dtype: int64"
      ]
     },
     "execution_count": 10,
     "metadata": {},
     "output_type": "execute_result"
    }
   ],
   "source": [
    "s3 = pd.Series(np.arange(200))\n",
    "s3"
   ]
  },
  {
   "cell_type": "code",
   "execution_count": 11,
   "id": "3be3a931",
   "metadata": {},
   "outputs": [
    {
     "data": {
      "text/plain": [
       "4"
      ]
     },
     "execution_count": 11,
     "metadata": {},
     "output_type": "execute_result"
    }
   ],
   "source": [
    "s3[4]"
   ]
  },
  {
   "cell_type": "markdown",
   "id": "9e5388d8",
   "metadata": {},
   "source": [
    "## Series 생성: data, index 함께 명시하여 생성"
   ]
  },
  {
   "cell_type": "markdown",
   "id": "9802240d",
   "metadata": {},
   "source": [
    "##  dtype 명시하여 생성 "
   ]
  },
  {
   "cell_type": "markdown",
   "id": "0e64a35f",
   "metadata": {},
   "source": [
    "```\n",
    "pd.Series(\n",
    "    data=None,\n",
    "    index=None,\n",
    "    dtype:'int',\n",
    "    name=None,\n",
    "    copy:\n",
    "    fastpath ....\n",
    ")\n",
    "```"
   ]
  },
  {
   "cell_type": "code",
   "execution_count": 12,
   "id": "f4986443",
   "metadata": {},
   "outputs": [
    {
     "data": {
      "text/plain": [
       "100    1\n",
       "200    2\n",
       "300    3\n",
       "dtype: int64"
      ]
     },
     "execution_count": 12,
     "metadata": {},
     "output_type": "execute_result"
    }
   ],
   "source": [
    "# pd.Series(data, index)\n",
    "s4 = pd.Series([1,2,3], index=[100, 200, 300])\n",
    "s4"
   ]
  },
  {
   "cell_type": "markdown",
   "id": "5858bd4e",
   "metadata": {},
   "source": [
    "## 인덱스 활용"
   ]
  },
  {
   "cell_type": "code",
   "execution_count": 13,
   "id": "5bcdb514",
   "metadata": {},
   "outputs": [
    {
     "data": {
      "text/plain": [
       "array([100, 200, 300])"
      ]
     },
     "execution_count": 13,
     "metadata": {},
     "output_type": "execute_result"
    }
   ],
   "source": [
    "s4.index.values"
   ]
  },
  {
   "cell_type": "markdown",
   "id": "cbc3d486",
   "metadata": {},
   "source": [
    "#### 1.인덱스를 통한 데이터 접근"
   ]
  },
  {
   "cell_type": "code",
   "execution_count": 17,
   "id": "d6303981",
   "metadata": {},
   "outputs": [
    {
     "data": {
      "text/plain": [
       "300    3\n",
       "100    1\n",
       "dtype: int64"
      ]
     },
     "execution_count": 17,
     "metadata": {},
     "output_type": "execute_result"
    }
   ],
   "source": [
    "s4[[300, 100]]"
   ]
  },
  {
   "cell_type": "markdown",
   "id": "18d42dd4",
   "metadata": {},
   "source": [
    "### 2. 인덱스를 통한 데이터 업데이트"
   ]
  },
  {
   "cell_type": "code",
   "execution_count": 19,
   "id": "f183307f",
   "metadata": {},
   "outputs": [
    {
     "data": {
      "text/plain": [
       "100    4\n",
       "200    2\n",
       "300    3\n",
       "dtype: int64"
      ]
     },
     "execution_count": 19,
     "metadata": {},
     "output_type": "execute_result"
    }
   ],
   "source": [
    "s4[100] = 4\n",
    "s4"
   ]
  },
  {
   "cell_type": "code",
   "execution_count": 20,
   "id": "a3c84e68",
   "metadata": {},
   "outputs": [
    {
     "data": {
      "text/plain": [
       "100    4\n",
       "200    2\n",
       "300    3\n",
       "400    5\n",
       "dtype: int64"
      ]
     },
     "execution_count": 20,
     "metadata": {},
     "output_type": "execute_result"
    }
   ],
   "source": [
    "s4[400] = 5\n",
    "s4"
   ]
  },
  {
   "cell_type": "code",
   "execution_count": 21,
   "id": "8f054f21",
   "metadata": {},
   "outputs": [
    {
     "data": {
      "text/plain": [
       "100    4\n",
       "200    6\n",
       "300    7\n",
       "400    5\n",
       "dtype: int64"
      ]
     },
     "execution_count": 21,
     "metadata": {},
     "output_type": "execute_result"
    }
   ],
   "source": [
    "s4[[200, 300]] = 6, 7\n",
    "s4"
   ]
  },
  {
   "cell_type": "markdown",
   "id": "701ebe64",
   "metadata": {},
   "source": [
    "### 3. 인덱스 재사용하기"
   ]
  },
  {
   "cell_type": "code",
   "execution_count": 23,
   "id": "01deeabe",
   "metadata": {},
   "outputs": [
    {
     "data": {
      "text/plain": [
       "100    0\n",
       "200    1\n",
       "300    2\n",
       "400    3\n",
       "dtype: int64"
      ]
     },
     "execution_count": 23,
     "metadata": {},
     "output_type": "execute_result"
    }
   ],
   "source": [
    "s8 = pd.Series(np.arange(4), s4.index)\n",
    "s8"
   ]
  },
  {
   "cell_type": "markdown",
   "id": "eb9febe8",
   "metadata": {},
   "source": [
    "### Series name, Index name, Index 변경"
   ]
  },
  {
   "cell_type": "code",
   "execution_count": 24,
   "id": "af79780d",
   "metadata": {},
   "outputs": [
    {
     "data": {
      "text/plain": [
       "떡볶이    5000원\n",
       "김밥     3000원\n",
       "라면     5000원\n",
       "dtype: object"
      ]
     },
     "execution_count": 24,
     "metadata": {},
     "output_type": "execute_result"
    }
   ],
   "source": [
    "s6 = pd.Series(np.array(['5000원', '3000원', '5000원']), index=['떡볶이', '김밥', '라면'])\n",
    "s6"
   ]
  },
  {
   "cell_type": "code",
   "execution_count": 25,
   "id": "f25f68a1",
   "metadata": {},
   "outputs": [
    {
     "data": {
      "text/plain": [
       "떡볶이    5000원\n",
       "김밥     3000원\n",
       "라면     5000원\n",
       "Name: 분식집, dtype: object"
      ]
     },
     "execution_count": 25,
     "metadata": {},
     "output_type": "execute_result"
    }
   ],
   "source": [
    "s6.name = '분식집'\n",
    "s6"
   ]
  },
  {
   "cell_type": "code",
   "execution_count": 27,
   "id": "8961ecbc",
   "metadata": {},
   "outputs": [
    {
     "data": {
      "text/plain": [
       "메뉴\n",
       "떡볶이    5000원\n",
       "김밥     3000원\n",
       "라면     5000원\n",
       "Name: 분식집, dtype: object"
      ]
     },
     "execution_count": 27,
     "metadata": {},
     "output_type": "execute_result"
    }
   ],
   "source": [
    "s6.index.name = '메뉴'\n",
    "s6"
   ]
  },
  {
   "cell_type": "code",
   "execution_count": 28,
   "id": "da171903",
   "metadata": {},
   "outputs": [
    {
     "data": {
      "text/plain": [
       "순대    5000원\n",
       "튀김    3000원\n",
       "만두    5000원\n",
       "Name: 분식집, dtype: object"
      ]
     },
     "execution_count": 28,
     "metadata": {},
     "output_type": "execute_result"
    }
   ],
   "source": [
    "s6.index = ['순대', '튀김', '만두']\n",
    "s6"
   ]
  },
  {
   "cell_type": "code",
   "execution_count": null,
   "id": "9cceeb20",
   "metadata": {},
   "outputs": [],
   "source": []
  }
 ],
 "metadata": {
  "kernelspec": {
   "display_name": "Python 3 (ipykernel)",
   "language": "python",
   "name": "python3"
  },
  "language_info": {
   "codemirror_mode": {
    "name": "ipython",
    "version": 3
   },
   "file_extension": ".py",
   "mimetype": "text/x-python",
   "name": "python",
   "nbconvert_exporter": "python",
   "pygments_lexer": "ipython3",
   "version": "3.10.12"
  }
 },
 "nbformat": 4,
 "nbformat_minor": 5
}
